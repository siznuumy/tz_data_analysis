{
 "cells": [
  {
   "cell_type": "markdown",
   "metadata": {},
   "source": [
    "<h1> 1. Вопросы: "
   ]
  },
  {
   "cell_type": "markdown",
   "metadata": {},
   "source": [
    "<h3>1)\tКак хорошо Вы владеете Python? Оцените свой уровень по шкале от 0 до 10, где 0 - совсем не знаю, 10 - владею в совершенстве.\n",
    "Объясните, почему Вы выбрали такой балл."
   ]
  },
  {
   "cell_type": "markdown",
   "metadata": {},
   "source": [
    ">Думаю на 7. Я знаю все, что может пригодиться в аналитике и машинном обучении, а если что-то забылось – найду во встроенном мануале. Но не уверен, что знаю все тонкости Python. В плане скорости и эффективности некоторых функций или работы с пакетами, например. Но опыт работы с C++, Java и C#, а так же базовые алгоритмические знания позволяют легко выкрутиться."
   ]
  },
  {
   "cell_type": "markdown",
   "metadata": {},
   "source": [
    "<h3>2)\tНасколько хорошо Вы знакомы с Google Sheets? Оцените свой уровень по шкале от 0 до 10, где 0 - совсем не знаю, 10 - владею в совершенстве. Объясните, почему Вы выбрали такой балл."
   ]
  },
  {
   "cell_type": "markdown",
   "metadata": {},
   "source": [
    ">Честно говоря, я отлично себя чувствую в Excel, с Google Таблицами же я работал очень посредственно. Но при небольшом сравнении их \"лоб в лоб\" отличий почти нет. Так что, если помимо некоторых синтаксических различий в формулах они одинаковы, то и оценка будет стремиться к 10. А пока поставлю 8."
   ]
  },
  {
   "cell_type": "markdown",
   "metadata": {},
   "source": [
    "<h1> 2. Задачи на логику: "
   ]
  },
  {
   "cell_type": "markdown",
   "metadata": {},
   "source": [
    "<h3>1)\tРекламная кампания стартовала вчера с дневным бюджетом 40 $. Половина бюджета была израсходована к полудню, а 80% оставшегося бюджета было потрачено между полуднем и временем закрытия. Сколько долларов не было потрачено?"
   ]
  },
  {
   "cell_type": "markdown",
   "metadata": {},
   "source": [
    "\n",
    "40 - 50% = 20$ – остаток к полудню\n",
    "\n",
    "\n",
    "20 - 80% = 4$ – остаток к закрытию"
   ]
  },
  {
   "cell_type": "markdown",
   "metadata": {},
   "source": [
    "> **Ответ:** 4$"
   ]
  },
  {
   "cell_type": "markdown",
   "metadata": {},
   "source": [
    "<h3>2)\t5 идентичных рекламных кампаний работали 24 дня по 6 часов в день, потрачено было 120 долларов. Сколько дней они работали бы на 216 долларов, если бы 9 одинаковых кампаний работали бы по 8 часов в день?"
   ]
  },
  {
   "cell_type": "markdown",
   "metadata": {},
   "source": [
    "<p>5 * 24 * 6 = 720 часов – проработала бы одна компания вместо 5\n",
    "<p>720 / 9 =  80 часов – столько проработали бы 9 компаний\n",
    "<p>80 * 216$ / 120$ = 144 часов – проработают 9 компаний за 216$\n",
    "<p>144 / 8 = 18 дней"
   ]
  },
  {
   "cell_type": "markdown",
   "metadata": {},
   "source": [
    "> **Ответ:** 18 дней "
   ]
  },
  {
   "cell_type": "markdown",
   "metadata": {},
   "source": [
    "<h3>3)\tДизайнеры создали 200 рекламных баннеров для двух рекламных кампаний. 80 из них не использовались ни в кампании №1, ни в кампании №2, 60 использовались только в кампании №1. И для каждого рекламного баннера, который использовался в обеих кампаниях, приходится 3 баннера, которые использовались только в кампании №2. Сколько баннеров было использовано в обеих рекламных кампаниях? "
   ]
  },
  {
   "cell_type": "markdown",
   "metadata": {},
   "source": [
    "<p>200 - 80 = 120 – количество баннеров, которые хоть где-то использовались \n",
    "<p>120 - 60 = 60 – количество баннеров, которые использовались либо в №2, либо в №1 и №2\n",
    "<p>Соответственно, 45 баннеров использовались в кампании №2 и 15 в обеих кампаниях"
   ]
  },
  {
   "cell_type": "markdown",
   "metadata": {},
   "source": [
    "> **Ответ:** 15 баннеров "
   ]
  },
  {
   "cell_type": "markdown",
   "metadata": {},
   "source": [
    "<h3>4)\tЭнн использует Instagram, но не Facebook, а Джон использует Youtube и Facebook. Кейт использует Youtube, но не Instagram, а Том использует Facebook, но не Youtube. Если каждый человек использует две из трех социальных сетей, у кого предпочтения совпадают?"
   ]
  },
  {
   "cell_type": "markdown",
   "metadata": {},
   "source": [
    "Проще всего построить матрицу и посмотреть, у кого строки совпадают."
   ]
  },
  {
   "cell_type": "code",
   "execution_count": 467,
   "metadata": {},
   "outputs": [
    {
     "data": {
      "text/html": [
       "<div>\n",
       "<style scoped>\n",
       "    .dataframe tbody tr th:only-of-type {\n",
       "        vertical-align: middle;\n",
       "    }\n",
       "\n",
       "    .dataframe tbody tr th {\n",
       "        vertical-align: top;\n",
       "    }\n",
       "\n",
       "    .dataframe thead th {\n",
       "        text-align: right;\n",
       "    }\n",
       "</style>\n",
       "<table border=\"1\" class=\"dataframe\">\n",
       "  <thead>\n",
       "    <tr style=\"text-align: right;\">\n",
       "      <th></th>\n",
       "      <th>Inst</th>\n",
       "      <th>Fb</th>\n",
       "      <th>Yt</th>\n",
       "    </tr>\n",
       "  </thead>\n",
       "  <tbody>\n",
       "    <tr>\n",
       "      <th>Энн</th>\n",
       "      <td>Да</td>\n",
       "      <td>Нет</td>\n",
       "      <td>Да</td>\n",
       "    </tr>\n",
       "    <tr>\n",
       "      <th>Джон</th>\n",
       "      <td>Нет</td>\n",
       "      <td>Да</td>\n",
       "      <td>Да</td>\n",
       "    </tr>\n",
       "    <tr>\n",
       "      <th>Кейт</th>\n",
       "      <td>Нет</td>\n",
       "      <td>Да</td>\n",
       "      <td>Да</td>\n",
       "    </tr>\n",
       "    <tr>\n",
       "      <th>Том</th>\n",
       "      <td>Да</td>\n",
       "      <td>Да</td>\n",
       "      <td>Нет</td>\n",
       "    </tr>\n",
       "  </tbody>\n",
       "</table>\n",
       "</div>"
      ],
      "text/plain": [
       "     Inst   Fb   Yt\n",
       "Энн    Да  Нет   Да\n",
       "Джон  Нет   Да   Да\n",
       "Кейт  Нет   Да   Да\n",
       "Том    Да   Да  Нет"
      ]
     },
     "execution_count": 467,
     "metadata": {},
     "output_type": "execute_result"
    }
   ],
   "source": [
    "pd.DataFrame({'Inst': ['Да', 'Нет', 'Нет', 'Да'],\n",
    "              'Fb': ['Нет', 'Да', 'Да', 'Да'], \n",
    "              'Yt': ['Да', 'Да', 'Да', 'Нет']}, \n",
    "             index=['Энн', 'Джон', 'Кейт', 'Том'])"
   ]
  },
  {
   "cell_type": "markdown",
   "metadata": {},
   "source": [
    "> **Ответ:** Предпочтения совпадают у Джона и Кейт"
   ]
  },
  {
   "cell_type": "markdown",
   "metadata": {},
   "source": [
    "<h3>5)\tСредний итоговый балл стажера по 4 модулям составляет 78 баллов. Сколько баллов должен получить стажер за 5-й модуль, чтобы средний балл по всему заданию составил 80? "
   ]
  },
  {
   "cell_type": "markdown",
   "metadata": {},
   "source": [
    "\\begin{align}\n",
    "\\frac{(78*4) + x}{5} = 80 \\\\\n",
    "\\frac{(312+x)}{5} = 80 \\\\\n",
    "312+x=400 \\\\\n",
    "x=400-312=88 \\\\\n",
    "\\end{align}"
   ]
  },
  {
   "cell_type": "markdown",
   "metadata": {},
   "source": [
    "> **Ответ:** 88 баллов"
   ]
  },
  {
   "cell_type": "markdown",
   "metadata": {},
   "source": [
    "<h3>6)\tЗаказанные в приложении товары доставляются на автомобиле. Автомобиль проезжает 260 км со средней скоростью 80 км / ч. На обратном пути машина движется со средней скоростью 100 км / ч. Насколько быстрее был обратный путь? Ответ указать в минутах. "
   ]
  },
  {
   "cell_type": "markdown",
   "metadata": {},
   "source": [
    "<p>260 / 80 = 3.25 часа = 3 часа и 0.25 часа = 3 часа 15 минут = 195 минут\n",
    "<p>260 / 100 = 2.6 часа = 2 часа и 0.6 часа = 2 часа 36 минут = 156 минут\n",
    "<p>195 - 156 = 39 минут"
   ]
  },
  {
   "cell_type": "markdown",
   "metadata": {},
   "source": [
    "> **Ответ:** На 39 минут"
   ]
  },
  {
   "cell_type": "markdown",
   "metadata": {},
   "source": [
    "<h1>3. Техническое задание"
   ]
  },
  {
   "cell_type": "code",
   "execution_count": 468,
   "metadata": {},
   "outputs": [],
   "source": [
    "import pandas as pd"
   ]
  },
  {
   "cell_type": "code",
   "execution_count": 469,
   "metadata": {},
   "outputs": [],
   "source": [
    "def get_clean_data():\n",
    "    \"\"\"\n",
    "    Функция для считывания Excel файла и отчистки \n",
    "    полученного датафрейма от пустых столбцов, разделяющих строк и т.д. \n",
    "    А так же для преобразования типов в некоторых столбцах.\n",
    "    \"\"\"\n",
    "\n",
    "    # считываем Excel файл\n",
    "    data = pd.read_excel('data.xlsx')\n",
    "\n",
    "    deal_date_list = []\n",
    "\n",
    "    # собираем лист из дат каждой сделки, чтобы избавиться \n",
    "    # от разделяющих строк, но при этом оставить информацию\n",
    "    for row in data['status']:\n",
    "        if row not in ['ОПЛАЧЕНО', 'ПРОСРОЧЕНО', 'В РАБОТЕ', 'ВНУТРЕННИЙ', 'НА ПОДПИСАНИИ']:\n",
    "            deal_date = row\n",
    "        deal_date_list.append(deal_date)\n",
    "\n",
    "    # и добавляем этот лист в датафрейм как еще один столбец\n",
    "    data['deal_date'] = deal_date_list\n",
    "\n",
    "    # удаляем разделяющие строки, они нам больше не нужны\n",
    "    data.drop(data[data['status'].str.contains('2021')].index, inplace=True)\n",
    "    # удаляем пустой столбец\n",
    "    data.drop('Unnamed: 5', axis=1, inplace=True)\n",
    "    # удяляем строку со статусом Внутренний. Поскольку ее предназначение \n",
    "    # остается почти загадкой, а в задании она никак не фигурирует.\n",
    "    data.drop(index=[1], axis=0, inplace=True)\n",
    "\n",
    "    # приводим столбцы к правильным типам\n",
    "    data.receiving_date = pd.to_datetime(data.receiving_date)\n",
    "    data.client_id = data.client_id.astype(int)\n",
    "    \n",
    "    return data"
   ]
  },
  {
   "cell_type": "code",
   "execution_count": 470,
   "metadata": {
    "scrolled": true
   },
   "outputs": [
    {
     "data": {
      "text/html": [
       "<div>\n",
       "<style scoped>\n",
       "    .dataframe tbody tr th:only-of-type {\n",
       "        vertical-align: middle;\n",
       "    }\n",
       "\n",
       "    .dataframe tbody tr th {\n",
       "        vertical-align: top;\n",
       "    }\n",
       "\n",
       "    .dataframe thead th {\n",
       "        text-align: right;\n",
       "    }\n",
       "</style>\n",
       "<table border=\"1\" class=\"dataframe\">\n",
       "  <thead>\n",
       "    <tr style=\"text-align: right;\">\n",
       "      <th></th>\n",
       "      <th>client_id</th>\n",
       "      <th>sum</th>\n",
       "      <th>status</th>\n",
       "      <th>sale</th>\n",
       "      <th>new/current</th>\n",
       "      <th>document</th>\n",
       "      <th>receiving_date</th>\n",
       "      <th>deal_date</th>\n",
       "    </tr>\n",
       "  </thead>\n",
       "  <tbody>\n",
       "    <tr>\n",
       "      <th>2</th>\n",
       "      <td>14</td>\n",
       "      <td>5452.7</td>\n",
       "      <td>ОПЛАЧЕНО</td>\n",
       "      <td>Петрова</td>\n",
       "      <td>новая</td>\n",
       "      <td>оригинал</td>\n",
       "      <td>2021-07-26</td>\n",
       "      <td>Май 2021</td>\n",
       "    </tr>\n",
       "    <tr>\n",
       "      <th>3</th>\n",
       "      <td>15</td>\n",
       "      <td>13991.7</td>\n",
       "      <td>ОПЛАЧЕНО</td>\n",
       "      <td>Иванов</td>\n",
       "      <td>текущая</td>\n",
       "      <td>оригинал</td>\n",
       "      <td>2021-06-08</td>\n",
       "      <td>Май 2021</td>\n",
       "    </tr>\n",
       "    <tr>\n",
       "      <th>4</th>\n",
       "      <td>16</td>\n",
       "      <td>719.7</td>\n",
       "      <td>ОПЛАЧЕНО</td>\n",
       "      <td>Иванов</td>\n",
       "      <td>текущая</td>\n",
       "      <td>оригинал</td>\n",
       "      <td>2021-06-08</td>\n",
       "      <td>Май 2021</td>\n",
       "    </tr>\n",
       "    <tr>\n",
       "      <th>5</th>\n",
       "      <td>18</td>\n",
       "      <td>4253.7</td>\n",
       "      <td>ОПЛАЧЕНО</td>\n",
       "      <td>Иванов</td>\n",
       "      <td>текущая</td>\n",
       "      <td>оригинал</td>\n",
       "      <td>2021-07-07</td>\n",
       "      <td>Май 2021</td>\n",
       "    </tr>\n",
       "    <tr>\n",
       "      <th>6</th>\n",
       "      <td>20</td>\n",
       "      <td>5796.7</td>\n",
       "      <td>ОПЛАЧЕНО</td>\n",
       "      <td>Кузнецова</td>\n",
       "      <td>текущая</td>\n",
       "      <td>оригинал</td>\n",
       "      <td>2021-07-15</td>\n",
       "      <td>Май 2021</td>\n",
       "    </tr>\n",
       "  </tbody>\n",
       "</table>\n",
       "</div>"
      ],
      "text/plain": [
       "   client_id      sum    status       sale new/current  document  \\\n",
       "2         14   5452.7  ОПЛАЧЕНО    Петрова       новая  оригинал   \n",
       "3         15  13991.7  ОПЛАЧЕНО     Иванов     текущая  оригинал   \n",
       "4         16    719.7  ОПЛАЧЕНО     Иванов     текущая  оригинал   \n",
       "5         18   4253.7  ОПЛАЧЕНО     Иванов     текущая  оригинал   \n",
       "6         20   5796.7  ОПЛАЧЕНО  Кузнецова     текущая  оригинал   \n",
       "\n",
       "  receiving_date deal_date  \n",
       "2     2021-07-26  Май 2021  \n",
       "3     2021-06-08  Май 2021  \n",
       "4     2021-06-08  Май 2021  \n",
       "5     2021-07-07  Май 2021  \n",
       "6     2021-07-15  Май 2021  "
      ]
     },
     "execution_count": 470,
     "metadata": {},
     "output_type": "execute_result"
    }
   ],
   "source": [
    "clean_data = get_clean_data()\n",
    "clean_data.head()"
   ]
  },
  {
   "cell_type": "markdown",
   "metadata": {},
   "source": [
    "<h3>Задание 1: Вычислите общую выручку за июль 2021 по тем сделкам, приход денежных средств которых не просрочен."
   ]
  },
  {
   "cell_type": "code",
   "execution_count": 471,
   "metadata": {},
   "outputs": [
    {
     "name": "stdout",
     "output_type": "stream",
     "text": [
      "Общая выручка за июль составила:  859896.4699999997\n"
     ]
    }
   ],
   "source": [
    "jule_sum = clean_data[(clean_data.status != 'ПРОСРОЧЕНО') \n",
    "                      & (clean_data.deal_date == 'Июль 2021')]['sum'].sum()\n",
    "print('Общая выручка за июль составила: ', jule_sum)"
   ]
  },
  {
   "cell_type": "markdown",
   "metadata": {},
   "source": [
    "<h3>Задание 2: Как изменялась выручка компании за рассматриваемый период? Проиллюстрируйте графиком."
   ]
  },
  {
   "cell_type": "code",
   "execution_count": 472,
   "metadata": {},
   "outputs": [
    {
     "data": {
      "image/png": "[encoded data removed]",
      "text/plain": [
       "<Figure size 720x432 with 1 Axes>"
      ]
     },
     "metadata": {
      "image/png": {
       "height": 372,
       "width": 644
      },
      "needs_background": "light"
     },
     "output_type": "display_data"
    }
   ],
   "source": [
    "%config InlineBackend.figure_format = 'retina'\n",
    "\n",
    "income_formatter = lambda x, pos: f\"{int(x/1000)} тыс.\"\n",
    "ax = clean_data.groupby(by='deal_date')['sum'].sum().plot(\n",
    "    x='deal_date', y='sum', \n",
    "    figsize=[10, 6], \n",
    "    title='Изменение выручки компании по месяцам',\n",
    "    xlabel=''\n",
    ");\n",
    "ax.yaxis.set_major_formatter(income_formatter)"
   ]
  },
  {
   "cell_type": "code",
   "execution_count": 473,
   "metadata": {},
   "outputs": [
    {
     "data": {
      "text/plain": [
       "deal_date\n",
       "Август 2021       850435.79\n",
       "Июль 2021         861874.17\n",
       "Июнь 2021         810266.11\n",
       "Май 2021          797878.49\n",
       "Октябрь 2021     1033148.39\n",
       "Сентябрь 2021     820383.78\n",
       "Name: sum, dtype: float64"
      ]
     },
     "execution_count": 473,
     "metadata": {},
     "output_type": "execute_result"
    }
   ],
   "source": [
    "clean_data.groupby(by='deal_date')['sum'].sum()"
   ]
  },
  {
   "cell_type": "markdown",
   "metadata": {},
   "source": [
    "<h3>Задание 3: Кто из менеджеров привлек для компании больше всего денежных средств в сентябре 2021?"
   ]
  },
  {
   "cell_type": "code",
   "execution_count": 474,
   "metadata": {},
   "outputs": [
    {
     "data": {
      "text/plain": [
       "sale\n",
       "Смирнов       221525.70\n",
       "Петрова       149344.46\n",
       "Андреев       133652.50\n",
       "Иванов         94770.60\n",
       "Кузнецова      72228.40\n",
       "Филимонова     59514.47\n",
       "Васильев       49895.45\n",
       "Соколов        35183.50\n",
       "Михайлов        4268.70\n",
       "Name: sum, dtype: float64"
      ]
     },
     "execution_count": 474,
     "metadata": {},
     "output_type": "execute_result"
    }
   ],
   "source": [
    "clean_data[clean_data.deal_date == 'Сентябрь 2021'].groupby('sale')['sum'].sum().sort_values(ascending=False)"
   ]
  },
  {
   "cell_type": "markdown",
   "metadata": {},
   "source": [
    "**Ответ:** Смирнов"
   ]
  },
  {
   "cell_type": "markdown",
   "metadata": {},
   "source": [
    "<h3>Задание 4: Какой тип сделок (новая/текущая) был преобладающим в октябре 2021?"
   ]
  },
  {
   "cell_type": "code",
   "execution_count": 475,
   "metadata": {
    "scrolled": true
   },
   "outputs": [
    {
     "data": {
      "text/plain": [
       "текущая    99\n",
       "новая      36\n",
       "Name: new/current, dtype: int64"
      ]
     },
     "execution_count": 475,
     "metadata": {},
     "output_type": "execute_result"
    }
   ],
   "source": [
    "clean_data[clean_data.deal_date == 'Октябрь 2021']['new/current'].value_counts()"
   ]
  },
  {
   "cell_type": "markdown",
   "metadata": {},
   "source": [
    "**Ответ:** преобладали текущие сделки"
   ]
  },
  {
   "cell_type": "markdown",
   "metadata": {},
   "source": [
    "<h3>Задание 5: Сколько оригиналов договора по майским сделкам было получено в июне 2021?"
   ]
  },
  {
   "cell_type": "code",
   "execution_count": 476,
   "metadata": {
    "scrolled": true
   },
   "outputs": [
    {
     "name": "stdout",
     "output_type": "stream",
     "text": [
      "Было получено оригиналов:  40\n"
     ]
    }
   ],
   "source": [
    "documents_count = clean_data[(clean_data.deal_date == 'Май 2021') \n",
    "                             & (clean_data.receiving_date.dt.month == 7)].receiving_date.count()\n",
    "print('Было получено оригиналов: ', documents_count)"
   ]
  },
  {
   "cell_type": "markdown",
   "metadata": {},
   "source": [
    "На пропущенные значения в столбце <code>document</code> внимания не обращаем, так как  имеется дата получения оригинала. По дате и считаем само количество полученных оригиналов."
   ]
  },
  {
   "cell_type": "markdown",
   "metadata": {},
   "source": [
    "<h3>Задание на вычисление остатка:"
   ]
  },
  {
   "cell_type": "markdown",
   "metadata": {},
   "source": [
    "**Ход мыслей:** раз уж нам необходимо найти остаток на 01.07.21, значит нам нужны только те сделки, которые были совершены до июля. Для этого нужно найти индекс, с которого начинаются сделки июля. Теперь просто срезаем датасет до июля и находим все записи, оригиналы документов которых пришли позже 01.07.21."
   ]
  },
  {
   "cell_type": "code",
   "execution_count": 477,
   "metadata": {},
   "outputs": [
    {
     "name": "stdout",
     "output_type": "stream",
     "text": [
      "<class 'pandas.core.frame.DataFrame'>\n",
      "Int64Index: 168 entries, 2 to 257\n",
      "Data columns (total 8 columns):\n",
      " #   Column          Non-Null Count  Dtype         \n",
      "---  ------          --------------  -----         \n",
      " 0   client_id       168 non-null    int64         \n",
      " 1   sum             168 non-null    float64       \n",
      " 2   status          168 non-null    object        \n",
      " 3   sale            168 non-null    object        \n",
      " 4   new/current     168 non-null    object        \n",
      " 5   document        165 non-null    object        \n",
      " 6   receiving_date  168 non-null    datetime64[ns]\n",
      " 7   deal_date       168 non-null    object        \n",
      "dtypes: datetime64[ns](1), float64(1), int64(1), object(5)\n",
      "memory usage: 11.8+ KB\n"
     ]
    }
   ],
   "source": [
    "jule_index = clean_data[clean_data.deal_date == 'Июль 2021'].iloc[0].name\n",
    "bonus_data = clean_data[(clean_data.receiving_date > '2021-7-1') & (clean_data.index < jule_index)].copy()\n",
    "bonus_data.info()"
   ]
  },
  {
   "cell_type": "markdown",
   "metadata": {},
   "source": [
    "В столбце <code>document</code> есть 3 пропущенных значения, но, как и в Задании 5, раз дата получения оригинала все равно имеется, значит пропущенными как раз и были значения \"оригинал\"."
   ]
  },
  {
   "cell_type": "code",
   "execution_count": 478,
   "metadata": {},
   "outputs": [
    {
     "data": {
      "text/html": [
       "<div>\n",
       "<style scoped>\n",
       "    .dataframe tbody tr th:only-of-type {\n",
       "        vertical-align: middle;\n",
       "    }\n",
       "\n",
       "    .dataframe tbody tr th {\n",
       "        vertical-align: top;\n",
       "    }\n",
       "\n",
       "    .dataframe thead th {\n",
       "        text-align: right;\n",
       "    }\n",
       "</style>\n",
       "<table border=\"1\" class=\"dataframe\">\n",
       "  <thead>\n",
       "    <tr style=\"text-align: right;\">\n",
       "      <th></th>\n",
       "      <th>client_id</th>\n",
       "      <th>sum</th>\n",
       "      <th>status</th>\n",
       "      <th>sale</th>\n",
       "      <th>new/current</th>\n",
       "      <th>document</th>\n",
       "      <th>receiving_date</th>\n",
       "      <th>deal_date</th>\n",
       "      <th>bonus</th>\n",
       "    </tr>\n",
       "  </thead>\n",
       "  <tbody>\n",
       "    <tr>\n",
       "      <th>2</th>\n",
       "      <td>14</td>\n",
       "      <td>5452.7</td>\n",
       "      <td>ОПЛАЧЕНО</td>\n",
       "      <td>Петрова</td>\n",
       "      <td>новая</td>\n",
       "      <td>оригинал</td>\n",
       "      <td>2021-07-26</td>\n",
       "      <td>Май 2021</td>\n",
       "      <td>381.689</td>\n",
       "    </tr>\n",
       "    <tr>\n",
       "      <th>5</th>\n",
       "      <td>18</td>\n",
       "      <td>4253.7</td>\n",
       "      <td>ОПЛАЧЕНО</td>\n",
       "      <td>Иванов</td>\n",
       "      <td>текущая</td>\n",
       "      <td>оригинал</td>\n",
       "      <td>2021-07-07</td>\n",
       "      <td>Май 2021</td>\n",
       "      <td>127.611</td>\n",
       "    </tr>\n",
       "    <tr>\n",
       "      <th>6</th>\n",
       "      <td>20</td>\n",
       "      <td>5796.7</td>\n",
       "      <td>ОПЛАЧЕНО</td>\n",
       "      <td>Кузнецова</td>\n",
       "      <td>текущая</td>\n",
       "      <td>оригинал</td>\n",
       "      <td>2021-07-15</td>\n",
       "      <td>Май 2021</td>\n",
       "      <td>173.901</td>\n",
       "    </tr>\n",
       "    <tr>\n",
       "      <th>7</th>\n",
       "      <td>21</td>\n",
       "      <td>3613.7</td>\n",
       "      <td>ОПЛАЧЕНО</td>\n",
       "      <td>Кузнецова</td>\n",
       "      <td>текущая</td>\n",
       "      <td>оригинал</td>\n",
       "      <td>2021-10-13</td>\n",
       "      <td>Май 2021</td>\n",
       "      <td>108.411</td>\n",
       "    </tr>\n",
       "    <tr>\n",
       "      <th>12</th>\n",
       "      <td>32</td>\n",
       "      <td>7353.9</td>\n",
       "      <td>ОПЛАЧЕНО</td>\n",
       "      <td>Филимонова</td>\n",
       "      <td>текущая</td>\n",
       "      <td>оригинал</td>\n",
       "      <td>2021-07-09</td>\n",
       "      <td>Май 2021</td>\n",
       "      <td>220.617</td>\n",
       "    </tr>\n",
       "    <tr>\n",
       "      <th>...</th>\n",
       "      <td>...</td>\n",
       "      <td>...</td>\n",
       "      <td>...</td>\n",
       "      <td>...</td>\n",
       "      <td>...</td>\n",
       "      <td>...</td>\n",
       "      <td>...</td>\n",
       "      <td>...</td>\n",
       "      <td>...</td>\n",
       "    </tr>\n",
       "    <tr>\n",
       "      <th>253</th>\n",
       "      <td>281</td>\n",
       "      <td>5733.7</td>\n",
       "      <td>ОПЛАЧЕНО</td>\n",
       "      <td>Селиванов</td>\n",
       "      <td>текущая</td>\n",
       "      <td>оригинал</td>\n",
       "      <td>2021-07-22</td>\n",
       "      <td>Июнь 2021</td>\n",
       "      <td>172.011</td>\n",
       "    </tr>\n",
       "    <tr>\n",
       "      <th>254</th>\n",
       "      <td>282</td>\n",
       "      <td>953.7</td>\n",
       "      <td>ОПЛАЧЕНО</td>\n",
       "      <td>Селиванов</td>\n",
       "      <td>новая</td>\n",
       "      <td>оригинал</td>\n",
       "      <td>2021-07-16</td>\n",
       "      <td>Июнь 2021</td>\n",
       "      <td>66.759</td>\n",
       "    </tr>\n",
       "    <tr>\n",
       "      <th>255</th>\n",
       "      <td>284</td>\n",
       "      <td>8823.7</td>\n",
       "      <td>ПРОСРОЧЕНО</td>\n",
       "      <td>Филимонова</td>\n",
       "      <td>текущая</td>\n",
       "      <td>оригинал</td>\n",
       "      <td>2021-09-08</td>\n",
       "      <td>Июнь 2021</td>\n",
       "      <td>0.000</td>\n",
       "    </tr>\n",
       "    <tr>\n",
       "      <th>256</th>\n",
       "      <td>286</td>\n",
       "      <td>3453.7</td>\n",
       "      <td>ОПЛАЧЕНО</td>\n",
       "      <td>Филимонова</td>\n",
       "      <td>текущая</td>\n",
       "      <td>оригинал</td>\n",
       "      <td>2021-07-22</td>\n",
       "      <td>Июнь 2021</td>\n",
       "      <td>103.611</td>\n",
       "    </tr>\n",
       "    <tr>\n",
       "      <th>257</th>\n",
       "      <td>287</td>\n",
       "      <td>6543.7</td>\n",
       "      <td>ОПЛАЧЕНО</td>\n",
       "      <td>Филимонова</td>\n",
       "      <td>текущая</td>\n",
       "      <td>оригинал</td>\n",
       "      <td>2021-08-12</td>\n",
       "      <td>Июнь 2021</td>\n",
       "      <td>196.311</td>\n",
       "    </tr>\n",
       "  </tbody>\n",
       "</table>\n",
       "<p>168 rows × 9 columns</p>\n",
       "</div>"
      ],
      "text/plain": [
       "     client_id     sum      status        sale new/current  document  \\\n",
       "2           14  5452.7    ОПЛАЧЕНО     Петрова       новая  оригинал   \n",
       "5           18  4253.7    ОПЛАЧЕНО      Иванов     текущая  оригинал   \n",
       "6           20  5796.7    ОПЛАЧЕНО   Кузнецова     текущая  оригинал   \n",
       "7           21  3613.7    ОПЛАЧЕНО   Кузнецова     текущая  оригинал   \n",
       "12          32  7353.9    ОПЛАЧЕНО  Филимонова     текущая  оригинал   \n",
       "..         ...     ...         ...         ...         ...       ...   \n",
       "253        281  5733.7    ОПЛАЧЕНО   Селиванов     текущая  оригинал   \n",
       "254        282   953.7    ОПЛАЧЕНО   Селиванов       новая  оригинал   \n",
       "255        284  8823.7  ПРОСРОЧЕНО  Филимонова     текущая  оригинал   \n",
       "256        286  3453.7    ОПЛАЧЕНО  Филимонова     текущая  оригинал   \n",
       "257        287  6543.7    ОПЛАЧЕНО  Филимонова     текущая  оригинал   \n",
       "\n",
       "    receiving_date  deal_date    bonus  \n",
       "2       2021-07-26   Май 2021  381.689  \n",
       "5       2021-07-07   Май 2021  127.611  \n",
       "6       2021-07-15   Май 2021  173.901  \n",
       "7       2021-10-13   Май 2021  108.411  \n",
       "12      2021-07-09   Май 2021  220.617  \n",
       "..             ...        ...      ...  \n",
       "253     2021-07-22  Июнь 2021  172.011  \n",
       "254     2021-07-16  Июнь 2021   66.759  \n",
       "255     2021-09-08  Июнь 2021    0.000  \n",
       "256     2021-07-22  Июнь 2021  103.611  \n",
       "257     2021-08-12  Июнь 2021  196.311  \n",
       "\n",
       "[168 rows x 9 columns]"
      ]
     },
     "execution_count": 478,
     "metadata": {},
     "output_type": "execute_result"
    }
   ],
   "source": [
    "bonus_list = []\n",
    "\n",
    "# считаем остатки. zip() используется как самая быстрая альтернатива функции iterrows()\n",
    "for new_cur, status, sums in zip(bonus_data['new/current'], bonus_data['status'], bonus_data['sum']):\n",
    "    if new_cur == 'новая' and status == 'ОПЛАЧЕНО':\n",
    "        bonus_list.append(sums * 0.07)\n",
    "    elif new_cur == 'текущая' and status != 'ПРОСРОЧЕНО':\n",
    "        if sums > 10000:\n",
    "            bonus_list.append(sums * 0.05)\n",
    "        elif sums < 10000:\n",
    "            bonus_list.append(sums * 0.03)\n",
    "    else:\n",
    "        bonus_list.append(0)\n",
    "\n",
    "# и добавляем в датасет новый столбец с остатками\n",
    "bonus_data['bonus'] = bonus_list\n",
    "bonus_data"
   ]
  },
  {
   "cell_type": "markdown",
   "metadata": {},
   "source": [
    "Остаток каждого из менеджеров:"
   ]
  },
  {
   "cell_type": "code",
   "execution_count": 479,
   "metadata": {},
   "outputs": [
    {
     "data": {
      "text/plain": [
       "sale\n",
       "Андреев        3866.3687\n",
       "Васильев       1037.0490\n",
       "Иванов         5778.7910\n",
       "Кузнецова      4496.9501\n",
       "Петрова       10770.7474\n",
       "Селиванов      5297.6900\n",
       "Смирнов        7127.2680\n",
       "Соколов         269.2110\n",
       "Филимонова     2317.9579\n",
       "Name: bonus, dtype: float64"
      ]
     },
     "execution_count": 479,
     "metadata": {},
     "output_type": "execute_result"
    }
   ],
   "source": [
    "bonus_data.groupby('sale').bonus.sum()"
   ]
  }
 ],
 "metadata": {
  "kernelspec": {
   "display_name": "Python 3",
   "language": "python",
   "name": "python3"
  },
  "language_info": {
   "codemirror_mode": {
    "name": "ipython",
    "version": 3
   },
   "file_extension": ".py",
   "mimetype": "text/x-python",
   "name": "python",
   "nbconvert_exporter": "python",
   "pygments_lexer": "ipython3",
   "version": "3.8.5"
  }
 },
 "nbformat": 4,
 "nbformat_minor": 4
}
